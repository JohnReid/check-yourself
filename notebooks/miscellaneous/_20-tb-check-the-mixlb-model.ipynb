{
 "cells": [
  {
   "cell_type": "markdown",
   "metadata": {},
   "source": [
    "# Purpose\n",
    "This notebook's purpose is to produce the model checking plots of the MIXLB model that will be needed in the 3rd version of the paper for ArXiv."
   ]
  },
  {
   "cell_type": "markdown",
   "metadata": {},
   "source": [
    "# Notebook parameters"
   ]
  },
  {
   "cell_type": "code",
   "execution_count": 1,
   "metadata": {},
   "outputs": [],
   "source": [
    "# Declare paths to where data is or should be stored\n",
    "DATA_PATH =\\\n",
    "    \"../../data/processed/model_ready_car_data.csv\"\n",
    "\n",
    "PARAM_PATH =\\\n",
    "    \"../../models/estimated_mixlb_parameters.csv\"\n",
    "\n",
    "HESSIAN_PATH =\\\n",
    "    \"../../models/estimated_mixlb_hessian.csv\"\n",
    "\n",
    "FIGURE_DIR =\\\n",
    "    \"../../reports/figures/mixlb\"\n",
    "\n",
    "# Note needed column names\n",
    "ALT_ID_COLUMN = 'alt_id'\n",
    "OBS_ID_COLUMN = 'obs_id'\n",
    "CHOICE_COLUMN = 'choice'\n",
    "\n",
    "# Note the number of samples being drawn for the model checking\n",
    "NUM_SAMPLES = 200"
   ]
  },
  {
   "cell_type": "markdown",
   "metadata": {},
   "source": [
    "# Import modules"
   ]
  },
  {
   "cell_type": "code",
   "execution_count": 2,
   "metadata": {},
   "outputs": [],
   "source": [
    "# Built-in modules\n",
    "import sys\n",
    "import time\n",
    "import pathlib\n",
    "from collections import OrderedDict\n",
    "\n",
    "# Third-party modules\n",
    "import torch\n",
    "import numpy as np\n",
    "import pandas as pd\n",
    "from scipy.stats import multivariate_normal\n",
    "\n",
    "# Local modules\n",
    "sys.path.insert(0, '../../')\n",
    "import src.models.mixlb as mixlb"
   ]
  },
  {
   "cell_type": "markdown",
   "metadata": {},
   "source": [
    "# Load needed data"
   ]
  },
  {
   "cell_type": "code",
   "execution_count": 4,
   "metadata": {},
   "outputs": [],
   "source": [
    "car_df = pd.read_csv(DATA_PATH)\n",
    "estimated_params =\\\n",
    "    np.loadtxt(PARAM_PATH, delimiter=',', skiprows=1)\n",
    "estimated_hessian = np.loadtxt(HESSIAN_PATH, delimiter=',')"
   ]
  },
  {
   "cell_type": "markdown",
   "metadata": {},
   "source": [
    "# Create sampling distribution"
   ]
  },
  {
   "cell_type": "code",
   "execution_count": 5,
   "metadata": {},
   "outputs": [],
   "source": [
    "# Extract the portion of the hessian pertaining to estimated\n",
    "# parameters, excluding rows and columns for the fixed parameters\n",
    "desired_rows =\\\n",
    "    np.concatenate((np.arange(0, 21), np.arange(23, 27)), axis=0)\n",
    "hessian_core =\\\n",
    "    estimated_hessian[np.ix_(desired_rows, desired_rows)]"
   ]
  },
  {
   "cell_type": "code",
   "execution_count": 7,
   "metadata": {},
   "outputs": [],
   "source": [
    "# Note we don't multiply by -1 because this is the hessian\n",
    "# of the log-loss as opposed to the log-likelihood. The\n",
    "# -1 is already included in the log-loss definition.\n",
    "asymptotic_cov = np.linalg.inv(hessian_core)"
   ]
  },
  {
   "cell_type": "code",
   "execution_count": 12,
   "metadata": {},
   "outputs": [],
   "source": [
    "asymptotic_sampling_dist =\\\n",
    "    multivariate_normal(mean=estimated_params[desired_rows],\n",
    "                        cov=asymptotic_cov)"
   ]
  },
  {
   "cell_type": "markdown",
   "metadata": {},
   "source": [
    "# Sample $\\left( y, \\theta \\right)$ from posterior distribution"
   ]
  },
  {
   "cell_type": "code",
   "execution_count": null,
   "metadata": {},
   "outputs": [],
   "source": []
  },
  {
   "cell_type": "markdown",
   "metadata": {},
   "source": [
    "# Produce desired plots"
   ]
  },
  {
   "cell_type": "code",
   "execution_count": null,
   "metadata": {},
   "outputs": [],
   "source": []
  },
  {
   "cell_type": "code",
   "execution_count": null,
   "metadata": {},
   "outputs": [],
   "source": []
  },
  {
   "cell_type": "code",
   "execution_count": null,
   "metadata": {},
   "outputs": [],
   "source": []
  },
  {
   "cell_type": "code",
   "execution_count": null,
   "metadata": {},
   "outputs": [],
   "source": []
  },
  {
   "cell_type": "code",
   "execution_count": null,
   "metadata": {},
   "outputs": [],
   "source": []
  },
  {
   "cell_type": "code",
   "execution_count": null,
   "metadata": {},
   "outputs": [],
   "source": []
  },
  {
   "cell_type": "code",
   "execution_count": null,
   "metadata": {},
   "outputs": [],
   "source": []
  },
  {
   "cell_type": "code",
   "execution_count": null,
   "metadata": {},
   "outputs": [],
   "source": []
  },
  {
   "cell_type": "code",
   "execution_count": null,
   "metadata": {},
   "outputs": [],
   "source": []
  },
  {
   "cell_type": "code",
   "execution_count": null,
   "metadata": {},
   "outputs": [],
   "source": []
  }
 ],
 "metadata": {
  "jupytext": {
   "formats": "ipynb,py:light"
  },
  "kernelspec": {
   "display_name": "Python 3",
   "language": "python",
   "name": "python3"
  },
  "language_info": {
   "codemirror_mode": {
    "name": "ipython",
    "version": 3
   },
   "file_extension": ".py",
   "mimetype": "text/x-python",
   "name": "python",
   "nbconvert_exporter": "python",
   "pygments_lexer": "ipython3",
   "version": "3.7.3"
  }
 },
 "nbformat": 4,
 "nbformat_minor": 4
}
