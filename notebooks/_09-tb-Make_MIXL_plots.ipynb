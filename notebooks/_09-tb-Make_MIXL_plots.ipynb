{
 "cells": [
  {
   "cell_type": "markdown",
   "metadata": {},
   "source": [
    "# Purpose\n",
    "The purpose of this notebook is two-fold. In it, I aim to:\n",
    "1. 'Check' the MIXL B model for lack-of-fit between observable features of the data and predictions from the model.\n",
    "2. Produce 7 plots to illustrate the general model-checking procedure.\n"
   ]
  },
  {
   "cell_type": "code",
   "execution_count": 19,
   "metadata": {
    "collapsed": false
   },
   "outputs": [],
   "source": [
    "import sys\n",
    "from collections import OrderedDict\n",
    "\n",
    "import scipy.stats\n",
    "import pandas as pd\n",
    "import numpy as np\n",
    "\n",
    "sys.path.insert(0, '/Users/timothyb0912/Documents/pylogit')\n",
    "import pylogit as pl\n",
    "\n",
    "sys.path.insert(0, '/Users/timothyb0912/Documents/stat241a/final_project/')\n",
    "import predictive_viz as viz\n",
    "\n",
    "%matplotlib inline"
   ]
  },
  {
   "cell_type": "markdown",
   "metadata": {},
   "source": [
    "# Load the car data"
   ]
  },
  {
   "cell_type": "code",
   "execution_count": 20,
   "metadata": {
    "collapsed": false
   },
   "outputs": [],
   "source": [
    "car_df = pd.read_csv(\"../data/car_long_format.csv\")\n",
    "\n",
    "mixl_probs = pd.read_csv(\"../data/mixl_long_format_probs.csv\").values\n",
    "mixl_sim_probs = pd.read_csv(\"../data/mixl_sim_probs.csv\").values"
   ]
  },
  {
   "cell_type": "code",
   "execution_count": 23,
   "metadata": {
    "collapsed": false
   },
   "outputs": [
    {
     "data": {
      "text/plain": [
       "array([ 0.22281908,  0.01675978,  0.1876522 ,  0.03266008,  0.01518407,\n",
       "        0.0159003 ,  0.01568543,  0.12018335,  0.05668959,  0.01325025,\n",
       "        0.01547056,  0.01453946,  0.02313422,  0.01672397,  0.01711789,\n",
       "        0.02485317,  0.01360837,  0.01697465,  0.0186936 ,  0.1225111 ,\n",
       "        0.13160722,  0.02857757,  0.01461109,  0.01769088,  0.02402951])"
      ]
     },
     "execution_count": 23,
     "metadata": {},
     "output_type": "execute_result"
    }
   ],
   "source": [
    "np.isnan(mixl_sim_probs).mean(axis=0)[:25]"
   ]
  },
  {
   "cell_type": "markdown",
   "metadata": {},
   "source": [
    "# Conclusion?\n",
    "The prediction loop using mlogit in R really doesn't always work. Many of the predicted probabilities are NaN. I won't be able to produce the model checking plots using these probabilities."
   ]
  }
 ],
 "metadata": {
  "kernelspec": {
   "display_name": "Python 2",
   "language": "python",
   "name": "python2"
  },
  "language_info": {
   "codemirror_mode": {
    "name": "ipython",
    "version": 2
   },
   "file_extension": ".py",
   "mimetype": "text/x-python",
   "name": "python",
   "nbconvert_exporter": "python",
   "pygments_lexer": "ipython2",
   "version": "2.7.12"
  }
 },
 "nbformat": 4,
 "nbformat_minor": 1
}
